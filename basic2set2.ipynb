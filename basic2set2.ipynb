{
  "nbformat": 4,
  "nbformat_minor": 0,
  "metadata": {
    "colab": {
      "provenance": [],
      "authorship_tag": "ABX9TyOa9tql+VdBJHQzykkXS5rL",
      "include_colab_link": true
    },
    "kernelspec": {
      "name": "python3",
      "display_name": "Python 3"
    },
    "language_info": {
      "name": "python"
    }
  },
  "cells": [
    {
      "cell_type": "markdown",
      "metadata": {
        "id": "view-in-github",
        "colab_type": "text"
      },
      "source": [
        "<a href=\"https://colab.research.google.com/github/74527mohammad/Python/blob/main/basic2set2.ipynb\" target=\"_parent\"><img src=\"https://colab.research.google.com/assets/colab-badge.svg\" alt=\"Open In Colab\"/></a>"
      ]
    },
    {
      "cell_type": "code",
      "execution_count": null,
      "metadata": {
        "id": "WTX1tautMMpO"
      },
      "outputs": [],
      "source": [
        "import pandas as pd\n",
        "import numpy as np\n",
        "import seaborn as sns\n",
        "import matplotlib.pyplot as plt\n",
        "import warnings\n",
        "warnings.filterwarnings(\"ignore\")\n",
        "import scipy.stats as stats\n",
        "import statsmodels.api as smf"
      ]
    },
    {
      "cell_type": "markdown",
      "source": [
        "Question 1\n",
        "\n",
        "Set 2"
      ],
      "metadata": {
        "id": "XxKWElTbQWII"
      }
    },
    {
      "cell_type": "code",
      "source": [
        "mew = 55\n",
        "std = 8\n",
        "q1 = stats.norm.sf(60,loc=mew,scale=std)\n",
        "print(\"The probability that the service manager cannot meet his commitment is\",np.round(q1,5))"
      ],
      "metadata": {
        "colab": {
          "base_uri": "https://localhost:8080/"
        },
        "id": "gnrFiH17PZH_",
        "outputId": "6f1b17b9-d103-4635-c6ce-e7c01329c802"
      },
      "execution_count": null,
      "outputs": [
        {
          "output_type": "stream",
          "name": "stdout",
          "text": [
            "The probability that the service manager cannot meet his commitment is 0.26599\n"
          ]
        }
      ]
    },
    {
      "cell_type": "markdown",
      "source": [
        "Question 2"
      ],
      "metadata": {
        "id": "1P8C1Q0NRLRW"
      }
    },
    {
      "cell_type": "code",
      "source": [
        "mean = 38\n",
        "std1 = 6\n",
        "q2_lessthan_38 = stats.norm.cdf(38, loc = mean, scale = std1)\n",
        "\n",
        "\n",
        "q2_less_than_44 = stats.norm.cdf(44, loc = mean,  scale = std1)\n",
        "\n",
        "\n",
        "q2_betweeen_38_and_44 = (q2_less_than_44 - q2_lessthan_38)\n",
        "print(\"The probability of employee age betweeen 38 and 44 is\",np.round(q2_betweeen_38_and_44*100,2),\"%\")\n",
        "\n",
        "q2_morethan_44 = 1-stats.norm.cdf(44, loc = mean, scale = std1)\n",
        "print(\"The probability of employee age more than 44 is\",np.round(q2_morethan_44*100,2),\"%\")\n",
        "\n",
        "true_or_false = (q2_morethan_44 > q2_betweeen_38_and_44)\n",
        "print(\"Answer:\",true_or_false)\n",
        "\n",
        "q2b = stats.norm.cdf(30, loc = mean, scale = std1)\n",
        "print(\"A training program for employees under the age of 30 at the center would be expected to attract about\",np.round((q2b*400),0),\"employees\")"
      ],
      "metadata": {
        "colab": {
          "base_uri": "https://localhost:8080/"
        },
        "id": "5X0L11ZlQVCT",
        "outputId": "065f1626-f550-4b93-ac8f-d5c94c234d73"
      },
      "execution_count": null,
      "outputs": [
        {
          "output_type": "stream",
          "name": "stdout",
          "text": [
            "The probability of employee age betweeen 38 and 44 is 34.13 %\n",
            "The probability of employee age more than 44 is 15.87 %\n",
            "Answer: False\n",
            "A training program for employees under the age of 30 at the center would be expected to attract about 36.0 employees\n"
          ]
        }
      ]
    },
    {
      "cell_type": "markdown",
      "source": [
        "Question 4"
      ],
      "metadata": {
        "id": "Q9tMzGw0SiPb"
      }
    },
    {
      "cell_type": "code",
      "source": [
        "mew = 100\n",
        "std = 20\n",
        "\n",
        "# Z value for .005 percentiles\n",
        "z_005_ = np.round(stats.norm.ppf(0.005),4)\n",
        "z_005_\n",
        "\n",
        "# Z value for .99 percentiles\n",
        "z_99_ = np.round(stats.norm.ppf(0.995),4)\n",
        "z_99_\n",
        "\n",
        "#z = (x_bar - mew) / std\n",
        "#x_bar = (z*std) + mew\n",
        "a = np.round((z_005_*std) + mew,1)\n",
        "b = np.round((z_99_*std) + mew,1)\n",
        "print(\"The two values of a and b, symmetric about the mean, are such that the probability of the random variable taking a value between them is 0.99:\",a,b)"
      ],
      "metadata": {
        "colab": {
          "base_uri": "https://localhost:8080/"
        },
        "id": "3kv6AG5wQ6VP",
        "outputId": "568f7a17-0839-49d3-b1da-e5b88ae8e985"
      },
      "execution_count": null,
      "outputs": [
        {
          "output_type": "stream",
          "name": "stdout",
          "text": [
            "The two values of a and b, symmetric about the mean, are such that the probability of the random variable taking a value between them is 0.99: 48.5 151.5\n"
          ]
        }
      ]
    },
    {
      "cell_type": "markdown",
      "source": [
        "Question 5"
      ],
      "metadata": {
        "id": "tHziL3r6TDxi"
      }
    },
    {
      "cell_type": "code",
      "source": [
        "mean1 = 5\n",
        "mean2 = 7\n",
        "Mean = (mean1+mean2) # 1 USD = 45 rupees\n",
        "print('The Mean Profit of both division:',Mean, 'Million$')\n",
        "print('The Mean Profit of both division:',(Mean*45)/10, 'Crore Rupees')\n",
        "\n",
        "# Combine standard Deviation = (Std1^2 + Std2^2)^1/2\n",
        "std1 = 3**2~\n",
        "std2 = 4**2\n",
        "Std = np.sqrt(std1 + std2)\n",
        "print('The Standard Deviation of both division:', Std, 'Million$')\n",
        "print('The Standard Deviation of both division:', (Std*45)/10, 'Crore Rupees')"
      ],
      "metadata": {
        "colab": {
          "base_uri": "https://localhost:8080/"
        },
        "id": "_QUT6sauSvSD",
        "outputId": "f325f848-f8d1-449f-bbdd-fc6eb60de389"
      },
      "execution_count": null,
      "outputs": [
        {
          "output_type": "stream",
          "name": "stdout",
          "text": [
            "The Mean Profit of both division: 12 Million$\n",
            "The Mean Profit of both division: 54.0 Crore Rupees\n",
            "The Standard Deviation of both division: 5.0 Million$\n",
            "The Standard Deviation of both division: 22.5 Crore Rupees\n"
          ]
        }
      ]
    },
    {
      "cell_type": "code",
      "source": [
        "#A. Specify a Rupee range (centered on the mean) such that it contains 95% probability for the annual profit of the company.\n",
        "r1, r2 = np.round(stats.norm.interval(0.95, Mean, Std),2)\n",
        "print(\"Rupee Ranges from\",r1,\"to\",r2,\"Million$ in Annual profit of the Company 95% of the time\")\n",
        "print(\"Rupee Ranges from\",np.divide(np.multiply(r1,45),10),'to',np.divide(np.multiply(r2,45),10),\"Crore Rupees in Annual profit of the Company 95% of the time\")"
      ],
      "metadata": {
        "colab": {
          "base_uri": "https://localhost:8080/"
        },
        "id": "l6vmBmOQTCJ_",
        "outputId": "1acabe84-b188-4451-b2b5-d4339453b322"
      },
      "execution_count": null,
      "outputs": [
        {
          "output_type": "stream",
          "name": "stdout",
          "text": [
            "Rupee Ranges from 2.2 to 21.8 Million$ in Annual profit of the Company 95% of the time\n",
            "Rupee Ranges from 9.900000000000002 to 98.1 Crore Rupees in Annual profit of the Company 95% of the time\n"
          ]
        }
      ]
    },
    {
      "cell_type": "code",
      "source": [
        "#B. Specify the 5th percentile of profit (in Rupees) for the company\n",
        "Z_05_ = stats.norm.ppf(0.05)\n",
        "Fifth_percentile = (Z_05_ * Std) + Mean\n",
        "print(\"The 5th percentile of Profit for the company is\",np.round(Fifth_percentile,2),\"Millions\")\n",
        "print(\"The 5th percentile of Profit for the company is\",np.round((Fifth_percentile*45)/10,),\"Crore Rupees\")"
      ],
      "metadata": {
        "colab": {
          "base_uri": "https://localhost:8080/"
        },
        "id": "UWNcm640T4hH",
        "outputId": "f112a28e-56de-480b-84d8-6ab198d88563"
      },
      "execution_count": null,
      "outputs": [
        {
          "output_type": "stream",
          "name": "stdout",
          "text": [
            "The 5th percentile of Profit for the company is 3.78 Millions\n",
            "The 5th percentile of Profit for the company is 17.0 Crore Rupees\n"
          ]
        }
      ]
    },
    {
      "cell_type": "code",
      "source": [
        "#C. Which of the two divisions has a larger probability of making a loss in a given year?\n",
        "\n",
        "print('The Probability of Division #1 making a loss is',np.round((stats.norm.cdf(0,5,3))*100,2),'%')\n",
        "\n",
        "# The probability of Division #2 making a loss\n",
        "print('The Probability of Division #2 making a loss is',np.round((stats.norm.cdf(0,7,4))*100,2),'%')\n",
        "\n",
        "Division_1 = (stats.norm.cdf(0,5,3))*100\n",
        "Division_2 = (stats.norm.cdf(0,7,4))*100\n",
        "\n",
        "if Division_1>Division_2:\n",
        "    print('The Division 1 has a larger Probability of making a loss')\n",
        "else:\n",
        "          print('The Division 2 has a larger Porbability of making a loss')"
      ],
      "metadata": {
        "colab": {
          "base_uri": "https://localhost:8080/"
        },
        "id": "DxBEeZjmVJsD",
        "outputId": "586b4f78-fa63-44d8-d221-10df7466ee96"
      },
      "execution_count": null,
      "outputs": [
        {
          "output_type": "stream",
          "name": "stdout",
          "text": [
            "The Probability of Division #1 making a loss is 4.78 %\n",
            "The Probability of Division #2 making a loss is 4.01 %\n",
            "The Division 1 has a larger Probability of making a loss\n"
          ]
        }
      ]
    },
    {
      "cell_type": "code",
      "source": [],
      "metadata": {
        "id": "JWTGIeJ6YMAJ"
      },
      "execution_count": null,
      "outputs": []
    }
  ]
}